{
  "nbformat": 4,
  "nbformat_minor": 0,
  "metadata": {
    "colab": {
      "private_outputs": true,
      "provenance": [],
      "authorship_tag": "ABX9TyP8cBhD42pwdCNOQL8eMsv8",
      "include_colab_link": true
    },
    "kernelspec": {
      "name": "python3",
      "display_name": "Python 3"
    },
    "language_info": {
      "name": "python"
    }
  },
  "cells": [
    {
      "cell_type": "markdown",
      "metadata": {
        "id": "view-in-github",
        "colab_type": "text"
      },
      "source": [
        "<a href=\"https://colab.research.google.com/github/sauravmitra9126/Assignment-Functions-OOPS/blob/main/Statistics_Practice_Questions.ipynb\" target=\"_parent\"><img src=\"https://colab.research.google.com/assets/colab-badge.svg\" alt=\"Open In Colab\"/></a>"
      ]
    },
    {
      "cell_type": "markdown",
      "source": [
        " 24. A company produces three different versions of a product: Standard, Premium, and Deluxe. The\n",
        "company wants to determine if there is a significant difference in customer satisfaction scores among the\n",
        "three product versions. They conducted a survey and collected customer satisfaction scores for each\n",
        "version from a random sample of customers. Perform an ANOVA test to determine if there is a significant\n",
        "difference in customer satisfaction scores.\n",
        "\n",
        "\n",
        "  Use the following data:\n",
        "\n",
        "  ```python\n",
        "\n",
        "  # Sample data: Customer satisfaction scores for each product version\n",
        "\n",
        "  standard_scores = [80, 85, 90, 78, 88, 82, 92, 78, 85, 87]\n",
        "\n",
        "  premium_scores = [90, 92, 88, 92, 95, 91, 96, 93, 89, 93]\n",
        "\n",
        "  deluxe_score"
      ],
      "metadata": {
        "id": "rwcR9fEhO9j5"
      }
    },
    {
      "cell_type": "code",
      "source": [
        "from scipy.stats import f_oneway\n",
        "\n",
        "# Sample data\n",
        "standard_scores = [80, 85, 90, 78, 88, 82, 92, 78, 85, 87]\n",
        "premium_scores = [90, 92, 88, 92, 95, 91, 96, 93, 89, 93]\n",
        "deluxe_scores = [95, 98, 92, 97, 96, 94, 98, 97, 92, 99]\n",
        "\n",
        "# Perform one-way ANOVA\n",
        "f_statistic, p_value = f_oneway(standard_scores, premium_scores, deluxe_scores)\n",
        "\n",
        "# Output the results\n",
        "print(\"F-statistic:\", f_statistic)\n",
        "print(\"p-value:\", p_value)\n"
      ],
      "metadata": {
        "id": "saEmFkWjOtJA"
      },
      "execution_count": null,
      "outputs": []
    },
    {
      "cell_type": "markdown",
      "source": [
        " 23. A company implemented an employee training program to improve job performance (Effective, Neutral,\n",
        "Ineffective). After the training, they collected data from a sample of employees and classified them based\n",
        "on their job performance before and after the training. Perform a Chi-Square test to determine if there is a\n",
        "significant difference between job performance levels before and after the training.\n",
        "\n",
        "\n",
        "Sample data:\n",
        "\n",
        "```python\n",
        "\n",
        "# Sample data: Job performance levels before (rows) and after (columns) training\n",
        "\n",
        "data = np.array([[50, 30, 20], [30, 40, 30], [20, 30, 40]])"
      ],
      "metadata": {
        "id": "bVx5Qn4rPIG-"
      }
    },
    {
      "cell_type": "code",
      "source": [
        "import numpy as np\n",
        "from scipy.stats import chi2_contingency\n",
        "\n",
        "# Contingency table\n",
        "data = np.array([\n",
        "    [50, 30, 20],\n",
        "    [30, 40, 30],\n",
        "    [20, 30, 40]\n",
        "])\n",
        "\n",
        "# Perform Chi-Square Test\n",
        "chi2, p, dof, expected = chi2_contingency(data)\n",
        "\n",
        "# Output results\n",
        "print(\"Chi-Square Statistic:\", chi2)\n",
        "print(\"Degrees of Freedom:\", dof)\n",
        "print(\"P-value:\", p)\n",
        "print(\"Expected Frequencies:\\n\", expected)\n",
        "\n",
        "# Interpretation\n",
        "alpha = 0.05\n",
        "if p < alpha:\n",
        "    print(\"Result: Significant difference. Reject the null hypothesis.\")\n",
        "else:\n",
        "    print(\"Result: No significant difference. Fail to reject the null hypothesis.\")\n"
      ],
      "metadata": {
        "id": "BoLa5aupPJ0H"
      },
      "execution_count": null,
      "outputs": []
    },
    {
      "cell_type": "markdown",
      "source": [
        " 22. A company conducted a customer satisfaction survey to determine if there is a significant relationship\n",
        "between product satisfaction levels (Satisfied, Neutral, Dissatisfied) and the region where customers are\n",
        "located (East, West, North, South). The survey data is summarized in a contingency table. Conduct a ChiSquare test to determine if there is a significant relationship between product satisfaction levels and\n",
        "customer regions.\n",
        "\n",
        "\n",
        "Sample data:\n",
        "\n",
        "```python\n",
        "\n",
        "#Sample data: Product satisfaction levels (rows) vs. Customer regions (columns)\n",
        "\n",
        "data = np.array([[50, 30, 40, 20], [30, 40, 30, 50], [20, 30, 40, 30]])"
      ],
      "metadata": {
        "id": "x9b49E72RA6u"
      }
    },
    {
      "cell_type": "code",
      "source": [
        "import numpy as np\n",
        "from scipy.stats import chi2_contingency\n",
        "\n",
        "data = np.array([[50, 30, 40, 20], [30, 40, 30, 50], [20, 30, 40, 30]])\n",
        "\n",
        "chi2_stat, p_value, dof, expected = chi2_contingency(data)\n",
        "\n",
        "\n",
        "print(\"Chi-Square Statistic:\", chi2_stat)\n",
        "print(\"p-value:\", p_value)\n",
        "print(\"Degrees of Freedom:\", dof)\n",
        "print(\"Expected Frequencies:\\n\", expected)\n",
        "\n",
        "if p_value < 0.05:\n",
        "    print(\"There is a significant relationship between product satisfaction levels and customer regions.\")\n",
        "else:\n",
        "    print(\"There is no significant relationship between product satisfaction levels and customer regions.\")\n"
      ],
      "metadata": {
        "id": "9nnKUWIfREjm"
      },
      "execution_count": null,
      "outputs": []
    },
    {
      "cell_type": "markdown",
      "source": [
        "21. A political analyst wants to determine if there is a significant association between age groups and voter\n",
        "preferences (Candidate A or Candidate B). They collect data from a sample of 500 voters and classify\n",
        "them into different age groups and candidate preferences. Perform a Chi-Square test to determine if\n",
        "there is a significant association between age groups and voter preferences.\n",
        "\n",
        "\n",
        "Use the below code to generate data:\n",
        "\n",
        "```python\n",
        "\n",
        "np.random.seed(0)\n",
        "\n",
        "age_groups = np.random.choice([ 18 30 , 31 50 , 51+', 51+'], size=30)\n",
        "\n",
        "voter_preferences = np.random.choice(['Candidate A', 'Candidate B'], size=30)"
      ],
      "metadata": {
        "id": "VfqboQhdRiY-"
      }
    },
    {
      "cell_type": "code",
      "source": [
        "import numpy as np\n",
        "import pandas as pd\n",
        "from scipy.stats import chi2_contingency # Corrected typo\n",
        "\n",
        "\n",
        "np.random.seed(0)\n",
        "\n",
        "\n",
        "age_groups = np.random.choice(['18-30', '31-50', '51+'], size=500)\n",
        "voter_preferences = np.random.choice(['Candidate A', 'Candidate B'], size=500)\n",
        "\n",
        "\n",
        "data = pd.DataFrame({'Age Group': age_groups, 'Voter Preference': voter_preferences})\n",
        "\n",
        "contingency_table = pd.crosstab(data['Age Group'], data['Voter Preference'])\n",
        "\n",
        "\n",
        "chi2_stat, p_value, dof, expected = chi2_contingency(contingency_table)\n",
        "\n",
        "\n",
        "print(\"Chi-Square Statistic:\", chi2_stat)\n",
        "print(\"p-value:\", p_value)\n",
        "print(\"Degrees of Freedom:\", dof)\n",
        "print(\"Expected Frequencies:\\n\", expected)\n",
        "\n",
        "\n",
        "if p_value < 0.05:\n",
        "    print(\"There is a significant association between age groups and voter preferences.\")\n",
        "else:\n",
        "    print(\"There is no significant association between age groups and voter preferences.\")"
      ],
      "metadata": {
        "id": "h_D5sh7vRmo2"
      },
      "execution_count": null,
      "outputs": []
    },
    {
      "cell_type": "markdown",
      "source": [
        "3. Write a Python class representing a discrete random variable with methods to calculate its expected\n",
        "value and variance"
      ],
      "metadata": {
        "id": "7pRqPHi8TC0d"
      }
    },
    {
      "cell_type": "code",
      "source": [
        "class DiscreteRandomVariable:\n",
        "    def __init__(self, values, probabilities):\n",
        "        if len(values) != len(probabilities) or sum(probabilities) != 1:\n",
        "            raise ValueError(\"Invalid input.\")\n",
        "        self.values = values\n",
        "        self.probabilities = probabilities\n",
        "\n",
        "    def expected_value(self):\n",
        "        return sum(v * p for v, p in zip(self.values, self.probabilities))\n",
        "\n",
        "    def variance(self):\n",
        "        mean = self.expected_value()\n",
        "        return sum(p * (v - mean)**2 for v, p in zip(self.values, self.probabilities))\n",
        "\n",
        "\n",
        "# Example usage\n",
        "values = [8, 12, 3, 4]\n",
        "probabilities = [0.1, 0.2, 0.3, 0.4]\n",
        "rv = DiscreteRandomVariable(values, probabilities)\n",
        "print(\"Expected Value:\", rv.expected_value())\n",
        "print(\"Variance:\", rv.variance())\n"
      ],
      "metadata": {
        "id": "HjEWn1RJR8Jl"
      },
      "execution_count": null,
      "outputs": []
    },
    {
      "cell_type": "markdown",
      "source": [
        "3. Write a Python class representing a discrete random variable with methods to calculate its expected\n",
        "value and variance"
      ],
      "metadata": {
        "id": "5L_rG2HWSrjn"
      }
    },
    {
      "cell_type": "markdown",
      "source": [
        "5. Create a Python function to generate random samples from a given probability distribution (e.g.,\n",
        "binomial, Poisson) and calculate their mean and variance"
      ],
      "metadata": {
        "id": "mqN-rdX5TMPN"
      }
    },
    {
      "cell_type": "code",
      "source": [
        "import numpy as np\n",
        "\n",
        "def generate_samples(distribution, **params):\n",
        "    size = params.get('size', 1000)\n",
        "    if distribution == 'binomial':\n",
        "        samples = np.random.binomial(params['n'], params['p'], size)\n",
        "    elif distribution == 'poisson':\n",
        "        samples = np.random.poisson(params['lam'], size)\n",
        "    else:\n",
        "        samples = [] # Or raise an error, depending on desired behavior\n",
        "\n",
        "    return np.mean(samples), np.var(samples)\n",
        "\n",
        "# Example usage:\n",
        "binomial_mean, binomial_variance = generate_samples('binomial', n=10, p=0.5, size=10000)\n",
        "poisson_mean, poisson_variance = generate_samples('poisson', lam=5, size=10000)\n",
        "\n",
        "print(\"Binomial Mean:\", binomial_mean, \"Variance:\", binomial_variance)\n",
        "print(\"Poisson Mean:\", poisson_mean, \"Variance:\", poisson_variance)"
      ],
      "metadata": {
        "id": "3Cufr2y1TWNk"
      },
      "execution_count": null,
      "outputs": []
    },
    {
      "cell_type": "markdown",
      "source": [
        "9.  Create a program to calculate the cumulative distribution function (CDF) of exponential distribution"
      ],
      "metadata": {
        "id": "qcf5812f7yhj"
      }
    },
    {
      "cell_type": "code",
      "source": [
        "import math\n",
        "\n",
        "def exponential_cdf(x: float, lambda_val: float) -> float:\n",
        "    \"\"\"\n",
        "    Calculates the cumulative distribution function (CDF) of an exponential distribution.\n",
        "\n",
        "    The CDF of an exponential distribution is given by:\n",
        "    F(x; λ) = 1 - e^(-λx) for x >= 0\n",
        "    F(x; λ) = 0 for x < 0\n",
        "\n",
        "    Args:\n",
        "        x (float): The value at which to evaluate the CDF.\n",
        "        lambda_val (float): The rate parameter (λ) of the exponential distribution.\n",
        "                            Must be greater than 0.\n",
        "\n",
        "    Returns:\n",
        "        float: The cumulative probability F(x; λ).\n",
        "\n",
        "    Raises:\n",
        "        ValueError: If lambda_val is not positive.\n",
        "    \"\"\"\n",
        "    if lambda_val <= 0:\n",
        "        raise ValueError(\"The rate parameter (lambda_val) must be positive.\")\n",
        "\n",
        "    if x < 0:\n",
        "        return 0.0\n",
        "    else:\n",
        "        # Calculate the CDF using the formula: 1 - e^(-λx)\n",
        "        return 1 - math.exp(-lambda_val * x)\n",
        "\n",
        "# --- Example Usage ---\n",
        "\n",
        "if __name__ == \"__main__\":\n",
        "    print(\"--- Exponential CDF Calculator ---\")\n",
        "\n",
        "    # Example 1: Calculate CDF for x = 1, lambda = 0.5\n",
        "    lambda1 = 0.5\n",
        "    x1 = 1.0\n",
        "    cdf1 = exponential_cdf(x1, lambda1)\n",
        "    print(f\"\\nFor lambda (λ) = {lambda1} and x = {x1}:\")\n",
        "    print(f\"CDF = {cdf1:.4f}\") # Expected: 1 - e^(-0.5 * 1) = 1 - 0.6065 = 0.3935\n",
        "\n",
        "    # Example 2: Calculate CDF for x = 0, lambda = 2.0\n",
        "    lambda2 = 2.0\n",
        "    x2 = 0.0\n",
        "    cdf2 = exponential_cdf(x2, lambda2)\n",
        "    print(f\"\\nFor lambda (λ) = {lambda2} and x = {x2}:\")\n",
        "    print(f\"CDF = {cdf2:.4f}\") # Expected: 1 - e^(0) = 0.0 (or very close to 0 due to formula)\n",
        "\n",
        "    # Example 3: Calculate CDF for x = 5, lambda = 0.1\n",
        "    lambda3 = 0.1\n",
        "    x3 = 5.0\n",
        "    cdf3 = exponential_cdf(x3, lambda3)\n",
        "    print(f\"\\nFor lambda (λ) = {lambda3} and x = {x3}:\")\n",
        "    print(f\"CDF = {cdf3:.4f}\") # Expected: 1 - e^(-0.1 * 5) = 1 - e^(-0.5) = 0.3935\n",
        "\n",
        "    # Example 4: Value of x less than 0\n",
        "    lambda4 = 1.0\n",
        "    x4 = -2.0\n",
        "    cdf4 = exponential_cdf(x4, lambda4)\n",
        "    print(f\"\\nFor lambda (λ) = {lambda4} and x = {x4}:\")\n",
        "    print(f\"CDF = {cdf4:.4f}\") # Expected: 0.0\n",
        "\n",
        "    # Example 5: Test with invalid lambda_val\n",
        "    try:\n",
        "        exponential_cdf(1.0, 0)\n",
        "    except ValueError as e:\n",
        "        print(f\"\\nError caught: {e}\")\n",
        "\n",
        "    try:\n",
        "        exponential_cdf(1.0, -0.5)\n",
        "    except ValueError as e:\n",
        "        print(f\"Error caught: {e}\")\n"
      ],
      "metadata": {
        "id": "vELPrOzz75sp"
      },
      "execution_count": null,
      "outputs": []
    },
    {
      "cell_type": "markdown",
      "source": [
        "10. Write a Python function to calculate the probability mass function (PMF) of Poisson distribution.\n"
      ],
      "metadata": {
        "id": "NBEFxg5D9V_r"
      }
    },
    {
      "cell_type": "code",
      "source": [
        "import math\n",
        "\n",
        "def poisson_pmf(k, lambda_val):\n",
        "    \"\"\"\n",
        "    Calculates the Probability Mass Function (PMF) of a Poisson distribution.\n",
        "    \"\"\"\n",
        "    if not isinstance(k, int) or k < 0:\n",
        "        return 0.0\n",
        "    if not isinstance(lambda_val, (int, float)) or lambda_val <= 0:\n",
        "        return 0.0\n",
        "\n",
        "    numerator = (lambda_val ** k) * math.exp(-lambda_val)\n",
        "    denominator = math.factorial(k)\n",
        "    return numerator / denominator\n",
        "\n",
        "\n",
        "k_events = 3\n",
        "lambda_rate = 2\n",
        "\n",
        "probability = poisson_pmf(k_events, lambda_rate)\n",
        "print(f\"The probability of exactly {k_events} customers arriving when the average is {lambda_rate} is: {probability:.4f}\")"
      ],
      "metadata": {
        "id": "BfBgzNBf9Z2p"
      },
      "execution_count": null,
      "outputs": []
    },
    {
      "cell_type": "markdown",
      "source": [
        "11.  A company wants to test if a new website layout leads to a higher conversion rate (percentage of visitors\n",
        "who make a purchase). They collect data from the old and new layouts to compare.\n",
        " To generate the data use the following command:\n",
        " ```python\n",
        " import numpy as np\n",
        " # 50 purchases out of 1000 visitors\n",
        " old_layout = np.array([1] * 50 + [0] * 950)\n",
        " # 70 purchases out of 1000 visitors  \n",
        "new_layout = np.array([1] * 70 + [0] * 930)\n",
        " ```\n",
        " Apply z-test to find which layout is successful"
      ],
      "metadata": {
        "id": "Lwr6192e95TQ"
      }
    },
    {
      "cell_type": "code",
      "source": [
        "import numpy as np\n",
        "from statsmodels.stats.proportion import proportions_ztest\n",
        "\n",
        "# Data\n",
        "old_successes = 50\n",
        "new_successes = 70\n",
        "n_old = n_new = 1000\n",
        "\n",
        "# Perform one-tailed z-test (H1: new > old)\n",
        "count = np.array([old_successes, new_successes])\n",
        "nobs = np.array([n_old, n_new])\n",
        "z_stat, p_value = proportions_ztest(count, nobs, alternative='smaller')\n",
        "\n",
        "print(f\"Z-statistic: {z_stat:.3f}\")\n",
        "print(f\"P-value: {p_value:.3f}\")\n"
      ],
      "metadata": {
        "id": "mZjDiRjE9-2B"
      },
      "execution_count": null,
      "outputs": []
    },
    {
      "cell_type": "markdown",
      "source": [
        "12.  A tutoring service claims that its program improves students' exam scores. A sample of students who\n",
        "participated in the program was taken, and their scores before and after the program were recorded.\n",
        " Use the below code to generate samples of respective arrays of marks:\n",
        " ```python\n",
        " before_program = np.array([75, 80, 85, 70, 90, 78, 92, 88, 82, 87])\n",
        " after_program = np.array([80, 85, 90, 80, 92, 80, 95, 90, 85, 88])\n",
        " ```\n",
        " Use z-test to find if the claims made by tutor are true or false"
      ],
      "metadata": {
        "id": "SW6jrDRD-o7L"
      }
    },
    {
      "cell_type": "code",
      "source": [
        "import numpy as np\n",
        "from scipy.stats import norm\n",
        "\n",
        "before = np.array([75, 80, 85, 70, 90, 78, 92, 88, 82, 87])\n",
        "after =  np.array([80, 85, 90, 80, 92, 80, 95, 90, 85, 88])\n",
        "\n",
        "diff = after - before\n",
        "mean_diff = np.mean(diff)\n",
        "std_diff = np.std(diff, ddof=1)\n",
        "n = len(diff)\n",
        "\n",
        "z = mean_diff / (std_diff / np.sqrt(n))\n",
        "p = 1 - norm.cdf(z)\n",
        "\n",
        "print(f\"Z = {z:.2f}, p = {p:.4f}\")\n"
      ],
      "metadata": {
        "id": "kuVQiDvo-q0I"
      },
      "execution_count": null,
      "outputs": []
    },
    {
      "cell_type": "markdown",
      "source": [
        " 14. A customer service department claims that their average response time is less than 5 minutes. A sample\n",
        "of recent customer interactions was taken, and the response times were recorded.\n",
        " Implement the below code to generate the array of response time:\n",
        " ```python\n",
        " response_times = np.array([4.3, 3.8, 5.1, 4.9, 4.7, 4.2, 5.2, 4.5, 4.6, 4.4])\n",
        " ```\n",
        " Implement z-test to find the claims made by customer service department are tru or false"
      ],
      "metadata": {
        "id": "qTuAstnd_F9g"
      }
    },
    {
      "cell_type": "code",
      "source": [
        "import numpy as np\n",
        "from scipy.stats import norm\n",
        "\n",
        "# Data\n",
        "response_times = np.array([4.3, 3.8, 5.1, 4.9, 4.7, 4.2, 5.2, 4.5, 4.6, 4.4])\n",
        "mu_0 = 5\n",
        "pop_std = 0.5\n",
        "n = len(response_times)\n",
        "mean = np.mean(response_times)\n",
        "\n",
        "# Z-test\n",
        "z = (mean - mu_0) / (pop_std / np.sqrt(n))\n",
        "p = norm.cdf(z)\n",
        "\n",
        "# Result\n",
        "print(f\"Z = {z:.2f}, p = {p:.4f}\")\n",
        "print(\"Claim is\", \"True\" if p < 0.05 else \"False\")\n"
      ],
      "metadata": {
        "id": "m-9J7szZ_KkI"
      },
      "execution_count": null,
      "outputs": []
    },
    {
      "cell_type": "markdown",
      "source": [
        "13. A pharmaceutical company wants to determine if a new drug is effective in reducing blood pressure. They\n",
        "conduct a study and record blood pressure measurements before and after administering the drug.\n",
        " Use the below code to generate samples of respective arrays of blood pressure:\n",
        " ```python\n",
        " before_drug = np.array([145, 150, 140, 135, 155, 160, 152, 148, 130, 138])\n",
        " after_drug = np.array([130, 140, 132, 128, 145, 148, 138, 136, 125, 130])\n",
        " ```\n",
        " Implement z-test to find if the drug really works or not"
      ],
      "metadata": {
        "id": "h7IOkVxN_3pH"
      }
    },
    {
      "cell_type": "code",
      "source": [
        "import numpy as np\n",
        "from scipy.stats import norm\n",
        "\n",
        "# Sample data\n",
        "before_drug = np.array([145, 150, 140, 135, 155, 160, 152, 148, 130, 138])\n",
        "after_drug = np.array([130, 140, 132, 128, 145, 148, 138, 136, 125, 130])\n",
        "\n",
        "# Difference in blood pressure\n",
        "diff = before_drug - after_drug\n",
        "\n",
        "# Z-test\n",
        "mean_diff = np.mean(diff)\n",
        "std_diff = np.std(diff, ddof=1)\n",
        "n = len(diff)\n",
        "z_score = mean_diff / (std_diff / np.sqrt(n))\n",
        "\n",
        "# One-tailed p-value\n",
        "p_value = 1 - norm.cdf(z_score)\n",
        "\n",
        "print(f\"Z-score: {z_score:.2f}\")\n",
        "print(f\"P-value: {p_value:.4f}\")\n"
      ],
      "metadata": {
        "id": "WgOGzv9k_8Uo"
      },
      "execution_count": null,
      "outputs": []
    },
    {
      "cell_type": "markdown",
      "source": [
        "15. A company is testing two different website layouts to see which one leads to higher click-through rates.\n",
        "Write a Python function to perform an A/B test analysis, including calculating the t-statistic, degrees of\n",
        "freedom, and p-value.\n",
        " Use the following data:\n",
        " ```python\n",
        " layout_a_clicks = [28, 32, 33, 29, 31, 34, 30, 35, 36, 37]\n",
        " layout_b_clicks = [40, 41, 38, 42, 39, 44, 43, 41, 45, 47]"
      ],
      "metadata": {
        "id": "xDhGestQAOiY"
      }
    },
    {
      "cell_type": "code",
      "source": [
        "import numpy as np\n",
        "from scipy import stats\n",
        "\n",
        "def ab_test_analysis(layout_a, layout_b):\n",
        "    t_stat, p_value = stats.ttest_ind(layout_a, layout_b, equal_var=False)\n",
        "    return t_stat, p_value\n",
        "\n",
        "layout_a_clicks = [28, 32, 33, 29, 31, 34, 30, 35, 36, 37]\n",
        "layout_b_clicks = [40, 41, 38, 42, 39, 44, 43, 41, 45, 47]\n",
        "\n",
        "t_stat, p_value = ab_test_analysis(layout_a_clicks, layout_b_clicks)\n",
        "print(f\"T-statistic: {t_stat:.4f}, P-value: {p_value:.4f}\")\n"
      ],
      "metadata": {
        "id": "YdvVOVKgATa3"
      },
      "execution_count": null,
      "outputs": []
    }
  ]
}