{
  "nbformat": 4,
  "nbformat_minor": 0,
  "metadata": {
    "colab": {
      "provenance": [],
      "authorship_tag": "ABX9TyORg5hLYhKtvqhE1PSQ1aMt",
      "include_colab_link": true
    },
    "kernelspec": {
      "name": "python3",
      "display_name": "Python 3"
    },
    "language_info": {
      "name": "python"
    }
  },
  "cells": [
    {
      "cell_type": "markdown",
      "metadata": {
        "id": "view-in-github",
        "colab_type": "text"
      },
      "source": [
        "<a href=\"https://colab.research.google.com/github/sauravmitra9126/Assignment-Functions-OOPS/blob/main/Assignment_Functions_OOPS.ipynb\" target=\"_parent\"><img src=\"https://colab.research.google.com/assets/colab-badge.svg\" alt=\"Open In Colab\"/></a>"
      ]
    },
    {
      "cell_type": "markdown",
      "source": [],
      "metadata": {
        "id": "psZ8tXF-ISKX"
      }
    },
    {
      "cell_type": "markdown",
      "source": [
        "1.Explain the importance of Functions."
      ],
      "metadata": {
        "id": "gOTDU3TZITS9"
      }
    },
    {
      "cell_type": "markdown",
      "source": [],
      "metadata": {
        "id": "tHCjipo0J2MG"
      }
    },
    {
      "cell_type": "markdown",
      "source": [
        "Ans. Functions are fundamental building blocks in programming, and their importance lies in several key aspects"
      ],
      "metadata": {
        "id": "5zZgFvqLJ3h-"
      }
    },
    {
      "cell_type": "code",
      "source": [
        "def greet(name):\n",
        "    print(f\"Hello, {name}!\")\n",
        "\n",
        "greet(\"Saurav\")\n",
        "greet(\"Priya\")\n",
        "greet(\"John\")"
      ],
      "metadata": {
        "colab": {
          "base_uri": "https://localhost:8080/"
        },
        "id": "8bJ3sGiLJ45G",
        "outputId": "91c586a1-c2c4-4fa8-e69b-c53ea4493bf8"
      },
      "execution_count": 2,
      "outputs": [
        {
          "output_type": "stream",
          "name": "stdout",
          "text": [
            "Hello, Saurav!\n",
            "Hello, Priya!\n",
            "Hello, John!\n"
          ]
        }
      ]
    }
  ]
}