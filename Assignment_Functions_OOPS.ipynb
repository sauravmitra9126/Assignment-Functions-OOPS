{
  "nbformat": 4,
  "nbformat_minor": 0,
  "metadata": {
    "colab": {
      "provenance": [],
      "authorship_tag": "ABX9TyOUVa9UhYifUpTQCzHIs0L+",
      "include_colab_link": true
    },
    "kernelspec": {
      "name": "python3",
      "display_name": "Python 3"
    },
    "language_info": {
      "name": "python"
    }
  },
  "cells": [
    {
      "cell_type": "markdown",
      "metadata": {
        "id": "view-in-github",
        "colab_type": "text"
      },
      "source": [
        "<a href=\"https://colab.research.google.com/github/sauravmitra9126/Assignment-Functions-OOPS/blob/main/Assignment_Functions_OOPS.ipynb\" target=\"_parent\"><img src=\"https://colab.research.google.com/assets/colab-badge.svg\" alt=\"Open In Colab\"/></a>"
      ]
    },
    {
      "cell_type": "markdown",
      "source": [],
      "metadata": {
        "id": "psZ8tXF-ISKX"
      }
    },
    {
      "cell_type": "markdown",
      "source": [
        "1.Explain the importance of Functions."
      ],
      "metadata": {
        "id": "gOTDU3TZITS9"
      }
    },
    {
      "cell_type": "markdown",
      "source": [],
      "metadata": {
        "id": "tHCjipo0J2MG"
      }
    },
    {
      "cell_type": "markdown",
      "source": [
        "Ans. Functions are fundamental building blocks in programming, and their importance lies in several key aspects"
      ],
      "metadata": {
        "id": "5zZgFvqLJ3h-"
      }
    },
    {
      "cell_type": "code",
      "source": [
        "def greet(name):\n",
        "    print(f\"Hello, {name}!\")\n",
        "\n",
        "greet(\"Saurav\")\n",
        "greet(\"ankita\")\n",
        "greet(\"abhishek\")"
      ],
      "metadata": {
        "colab": {
          "base_uri": "https://localhost:8080/"
        },
        "id": "8bJ3sGiLJ45G",
        "outputId": "860f044a-1947-4118-abfc-47f94da71cb4"
      },
      "execution_count": 4,
      "outputs": [
        {
          "output_type": "stream",
          "name": "stdout",
          "text": [
            "Hello, Saurav!\n",
            "Hello, ankita!\n",
            "Hello, abhishek!\n"
          ]
        }
      ]
    },
    {
      "cell_type": "markdown",
      "source": [
        "2.Write a basic function to greet students"
      ],
      "metadata": {
        "id": "hAXFDVNYPuBs"
      }
    },
    {
      "cell_type": "code",
      "source": [
        "def greet_student(name):\n",
        "    print(f\"Hello, {name}! Welcome to the class.\")\n",
        "\n",
        "greet_student(\"Saurav\")\n"
      ],
      "metadata": {
        "colab": {
          "base_uri": "https://localhost:8080/"
        },
        "id": "_SLyuA_nPv0N",
        "outputId": "05b0d721-a656-44e2-e60b-e77c6a96e430"
      },
      "execution_count": 3,
      "outputs": [
        {
          "output_type": "stream",
          "name": "stdout",
          "text": [
            "Hello, Saurav! Welcome to the class.\n"
          ]
        }
      ]
    },
    {
      "cell_type": "markdown",
      "source": [
        "3. What is the difference between print and return statements\n"
      ],
      "metadata": {
        "id": "PlutnmF8QABs"
      }
    },
    {
      "cell_type": "code",
      "source": [
        "def add(a, b):\n",
        "    return a + b\n",
        "\n",
        "result = add(100, 25.2)\n",
        "print(result)\n"
      ],
      "metadata": {
        "colab": {
          "base_uri": "https://localhost:8080/"
        },
        "id": "KYybevnHQCzO",
        "outputId": "a0ea9fb4-37d9-4de5-d7db-4df26b322378"
      },
      "execution_count": 19,
      "outputs": [
        {
          "output_type": "stream",
          "name": "stdout",
          "text": [
            "125.2\n"
          ]
        }
      ]
    },
    {
      "cell_type": "markdown",
      "source": [
        "4.What are *args and **kwargs?\n"
      ],
      "metadata": {
        "id": "VSA-Fa1DRm99"
      }
    },
    {
      "cell_type": "code",
      "source": [
        "#*args\n",
        "\n",
        "def add_all(*args):\n",
        "    return sum(args)\n",
        "\n",
        "print(add_all(1, 2, 3))\n",
        "print(add_all(5, 10, 15, 20))\n"
      ],
      "metadata": {
        "colab": {
          "base_uri": "https://localhost:8080/"
        },
        "id": "Ts1F41_fRqEu",
        "outputId": "4d2d338f-0af5-4952-cfe2-453daafe5520"
      },
      "execution_count": 20,
      "outputs": [
        {
          "output_type": "stream",
          "name": "stdout",
          "text": [
            "6\n",
            "50\n"
          ]
        }
      ]
    },
    {
      "cell_type": "code",
      "source": [
        "#**kwargs\n",
        "def greet(**kwargs):\n",
        "    for key, value in kwargs.items():\n",
        "        print(f\"{key} = {value}\")\n",
        "\n",
        "greet(name=\"Saurav\", age=29, mood=\"angry\")\n",
        "\n"
      ],
      "metadata": {
        "colab": {
          "base_uri": "https://localhost:8080/"
        },
        "id": "YPe8rKOddLtW",
        "outputId": "3371a076-b66a-4fbf-f26f-d243ab1244f4"
      },
      "execution_count": 22,
      "outputs": [
        {
          "output_type": "stream",
          "name": "stdout",
          "text": [
            "name = Saurav\n",
            "age = 29\n",
            "mood = angry\n"
          ]
        }
      ]
    },
    {
      "cell_type": "markdown",
      "source": [
        "5.  Explain the iterator function?"
      ],
      "metadata": {
        "id": "q_i4I16ddmRH"
      }
    },
    {
      "cell_type": "markdown",
      "source": [
        "Ans.  An iterator is an object that you can loop through (iterate over) one value at a time."
      ],
      "metadata": {
        "id": "5eNGqFQ4dsw9"
      }
    },
    {
      "cell_type": "code",
      "source": [
        "my_list = [150, 260, 310]\n",
        "iterator = iter(my_list)  # create an iterator from the list\n",
        "\n",
        "print(next(iterator))\n",
        "print(next(iterator))\n",
        "print(next(iterator))\n",
        "\n"
      ],
      "metadata": {
        "colab": {
          "base_uri": "https://localhost:8080/"
        },
        "id": "K6ZmheKNdpPW",
        "outputId": "5e98a6ab-461e-47c9-96cd-a623a15b66a0"
      },
      "execution_count": 24,
      "outputs": [
        {
          "output_type": "stream",
          "name": "stdout",
          "text": [
            "150\n",
            "260\n",
            "310\n"
          ]
        }
      ]
    },
    {
      "cell_type": "markdown",
      "source": [
        "6. Write a code that generates the squares of numbers from 1 to n using a generator?"
      ],
      "metadata": {
        "id": "uHHUyUJMlZsn"
      }
    },
    {
      "cell_type": "code",
      "source": [
        "def squares(n):\n",
        "    for i in range(1, n + 2):\n",
        "        yield i * i\n",
        "\n",
        "for sq in squares(7):\n",
        "    print(sq)"
      ],
      "metadata": {
        "colab": {
          "base_uri": "https://localhost:8080/"
        },
        "id": "7yWvuK1ilb-E",
        "outputId": "a62e1d50-1a73-4c77-dac4-4b3fadc71138"
      },
      "execution_count": 27,
      "outputs": [
        {
          "output_type": "stream",
          "name": "stdout",
          "text": [
            "1\n",
            "4\n",
            "9\n",
            "16\n",
            "25\n",
            "36\n",
            "49\n",
            "64\n"
          ]
        }
      ]
    },
    {
      "cell_type": "markdown",
      "source": [
        "7. Write a code that generates palindromic numbers up to n using a generator?"
      ],
      "metadata": {
        "id": "7uS-6wsilt5b"
      }
    },
    {
      "cell_type": "code",
      "source": [
        "def palindromes(n):\n",
        "    yield from (i for i in range(1, n+1) if str(i) == str(i)[::-1])\n",
        "\n",
        "for a in palindromes(48):\n",
        "    print(a)"
      ],
      "metadata": {
        "colab": {
          "base_uri": "https://localhost:8080/"
        },
        "id": "1Yt48HQclx0u",
        "outputId": "748fa4fb-dd4f-4a2a-b49e-e48ad8fe85a6"
      },
      "execution_count": 30,
      "outputs": [
        {
          "output_type": "stream",
          "name": "stdout",
          "text": [
            "1\n",
            "2\n",
            "3\n",
            "4\n",
            "5\n",
            "6\n",
            "7\n",
            "8\n",
            "9\n",
            "11\n",
            "22\n",
            "33\n",
            "44\n"
          ]
        }
      ]
    },
    {
      "cell_type": "markdown",
      "source": [
        "8. Write a code that generates even numbers from 2 to n using a generator?"
      ],
      "metadata": {
        "id": "KwullQ2dmF5l"
      }
    },
    {
      "cell_type": "code",
      "source": [
        "n = 20\n",
        "even_gen = (i for i in range(2, n + 1) if i % 2 == 0)\n",
        "\n",
        "# Example usage:\n",
        "for number in even_gen:\n",
        "    print(number)"
      ],
      "metadata": {
        "colab": {
          "base_uri": "https://localhost:8080/"
        },
        "id": "atqgqJ3ymKPF",
        "outputId": "46299757-ef00-4193-c93f-1c8609d1ec9e"
      },
      "execution_count": 31,
      "outputs": [
        {
          "output_type": "stream",
          "name": "stdout",
          "text": [
            "2\n",
            "4\n",
            "6\n",
            "8\n",
            "10\n",
            "12\n",
            "14\n",
            "16\n",
            "18\n",
            "20\n"
          ]
        }
      ]
    }
  ]
}