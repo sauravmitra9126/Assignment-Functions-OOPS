{
  "nbformat": 4,
  "nbformat_minor": 0,
  "metadata": {
    "colab": {
      "private_outputs": true,
      "provenance": [],
      "authorship_tag": "ABX9TyNwfPTI6o0G8qcUc93a0+6n",
      "include_colab_link": true
    },
    "kernelspec": {
      "name": "python3",
      "display_name": "Python 3"
    },
    "language_info": {
      "name": "python"
    }
  },
  "cells": [
    {
      "cell_type": "markdown",
      "metadata": {
        "id": "view-in-github",
        "colab_type": "text"
      },
      "source": [
        "<a href=\"https://colab.research.google.com/github/sauravmitra9126/Assignment-Functions-OOPS/blob/main/Data_Visualization.ipynb\" target=\"_parent\"><img src=\"https://colab.research.google.com/assets/colab-badge.svg\" alt=\"Open In Colab\"/></a>"
      ]
    },
    {
      "cell_type": "markdown",
      "source": [],
      "metadata": {
        "id": "MJuX6PxAIfpn"
      }
    },
    {
      "cell_type": "markdown",
      "source": [
        "                                                                 heading:\n",
        "                                                          MATPLOTLIB ASSIGNMENT:"
      ],
      "metadata": {
        "id": "0OXKFlSSIgx4"
      }
    },
    {
      "cell_type": "code",
      "source": [
        "import numpy as np\n",
        "import matplotlib.pyplot as plt\n",
        "from mpl_toolkits.mplot3d import Axes3D\n",
        "import seaborn as sns\n"
      ],
      "metadata": {
        "id": "K2YVz7w_KzFQ"
      },
      "execution_count": null,
      "outputs": []
    },
    {
      "cell_type": "markdown",
      "source": [
        "1. Create a scatter plot using Matplotlib to visualize the relationship between two arrays, x and y for the given\n",
        "data\n",
        " x = [1, 2, 3, 4, 5, 6, 7, 8, 9, 10]\n",
        " y = [2, 4, 5, 7, 6, 8, 9, 10, 12, 13]\n"
      ],
      "metadata": {
        "id": "e55d7ToAItqx"
      }
    },
    {
      "cell_type": "code",
      "source": [
        "\n",
        "\n",
        "# Data\n",
        "x = [1, 2, 3, 4, 5, 6, 7, 8, 9, 10]\n",
        "y = [2, 4, 5, 7, 6, 8, 9, 10, 12, 13]\n",
        "\n",
        "# Create scatter plot\n",
        "plt.scatter(x, y, color='red', marker='o', label='Data points')\n",
        "\n",
        "# Add title and labels\n",
        "plt.title('Scatter Plot of x vs y')\n",
        "plt.xlabel('x values')\n",
        "plt.ylabel('y values')\n",
        "plt.legend()\n",
        "plt.grid(True)\n",
        "\n",
        "# Show the plot\n",
        "plt.show()\n"
      ],
      "metadata": {
        "id": "VaZfYbLlI0qg"
      },
      "execution_count": null,
      "outputs": []
    },
    {
      "cell_type": "markdown",
      "source": [
        "2. Generate a line plot to visualize the trend of values for the given data.\n",
        "\n",
        "data = np.array([3, 7, 9, 15, 22, 29, 35])"
      ],
      "metadata": {
        "id": "S8Vyp8D8JhJJ"
      }
    },
    {
      "cell_type": "code",
      "source": [
        "\n",
        "\n",
        "# Data\n",
        "data = np.array([3, 7, 9, 15, 22, 29, 35])\n",
        "\n",
        "# Generate x values as index positions\n",
        "x = np.arange(len(data))\n",
        "\n",
        "# Create line plot\n",
        "plt.plot(x, data, marker='o', linestyle='-', color='blue', label='Trend')\n",
        "\n",
        "# Add title and labels\n",
        "plt.title('Line Plot of Data Trend')\n",
        "plt.xlabel('Index')\n",
        "plt.ylabel('Value')\n",
        "plt.grid(True)\n",
        "\n",
        "plt.legend()\n",
        "# Show the plot\n",
        "plt.show()\n"
      ],
      "metadata": {
        "id": "QirYP_AIJoEI"
      },
      "execution_count": null,
      "outputs": []
    },
    {
      "cell_type": "markdown",
      "source": [
        "3.  Display a bar chart to represent the frequency of each item in the given array categories.\n",
        "categories = ['A', 'B', 'C', 'D', 'E']\n",
        "values = [25, 40, 30, 35, 20]"
      ],
      "metadata": {
        "id": "ElWqx8IFKEdJ"
      }
    },
    {
      "cell_type": "code",
      "source": [
        "\n",
        "\n",
        "# Data\n",
        "categories = ['A', 'B', 'C', 'D', 'E']\n",
        "values = [25, 40, 30, 35, 20]\n",
        "\n",
        "# Create bar chart\n",
        "plt.bar(categories, values, color='skyblue', edgecolor='black')\n",
        "\n",
        "\n",
        "plt.title('Categories')\n",
        "plt.xlabel('Category')\n",
        "plt.ylabel('Frequency')\n",
        "plt.grid(axis='y', linestyle='--', alpha=0.7)\n",
        "\n",
        "# Show the plot\n",
        "plt.show()\n"
      ],
      "metadata": {
        "id": "uj3zlZ8IKN8o"
      },
      "execution_count": null,
      "outputs": []
    },
    {
      "cell_type": "markdown",
      "source": [
        "4. Create a histogram to visualize the distribution of values in the array data.\n",
        "data = np.random.normal(0, 1, 1000)\n"
      ],
      "metadata": {
        "id": "6Eo-yanqKkvQ"
      }
    },
    {
      "cell_type": "code",
      "source": [
        "data = np.random.normal(0, 1, 1000)\n",
        "\n",
        "# Create histogram\n",
        "plt.hist(data, bins=30, color='orange', edgecolor='black', alpha=0.7)\n",
        "\n",
        "# Add title and labels\n",
        "plt.title('Histogram of Normally Distributed Data')\n",
        "plt.xlabel('Value')\n",
        "plt.ylabel('Frequency')\n",
        "plt.grid(axis='y', linestyle='--', alpha=0.7)\n",
        "\n",
        "# Show the plot\n",
        "plt.show()\n"
      ],
      "metadata": {
        "id": "599cQSvdKoNZ"
      },
      "execution_count": null,
      "outputs": []
    },
    {
      "cell_type": "markdown",
      "source": [
        "Show a pie chart to represent the percentage distribution of different sections in the array `sections`.\n",
        "sections = ['Section A', 'Section B', 'Section C', 'Section D']\n",
        "sizes = [25, 30, 15, 30]"
      ],
      "metadata": {
        "id": "CD0wMnTZLDIn"
      }
    },
    {
      "cell_type": "code",
      "source": [
        "sections = ['Section A', 'Section B', 'Section C', 'Section D']\n",
        "sizes = [25, 30, 15, 30]\n",
        "\n",
        "plt.pie(sizes, labels = sections, autopct = '%1.1f%%', startangle=90, colors= ['red', 'pink', 'blue', 'yellow'])\n",
        "\n",
        "plt.title('Percentage Distribution of Sections')\n",
        "\n",
        "plt.show()"
      ],
      "metadata": {
        "id": "bNrKeqeWLHlA"
      },
      "execution_count": null,
      "outputs": []
    },
    {
      "cell_type": "markdown",
      "source": [
        "                             heading:\n",
        "                        SEABORN ASSIGNMENT:"
      ],
      "metadata": {
        "id": "t0weWaQ2Mcf4"
      }
    },
    {
      "cell_type": "markdown",
      "source": [
        " Create a scatter plot to visualize the relationship between two variables, by generating a synthetic\n",
        "dataset."
      ],
      "metadata": {
        "id": "5m6LJtHqMiKo"
      }
    },
    {
      "cell_type": "code",
      "source": [
        "import numpy as np\n",
        "import matplotlib.pyplot as plt\n",
        "\n",
        "\n",
        "np.random.seed(0)\n",
        "x = np.random.rand(100) * 30\n",
        "y = 2.5 * x + np.random.randn(100) * 25\n",
        "\n",
        "\n",
        "plt.scatter(x, y, color='teal', alpha=0.7, edgecolor='black')\n",
        "\n",
        "plt.title('Scatter Plot of Synthetic Data')\n",
        "plt.xlabel('X Variable')\n",
        "plt.ylabel('Y Variable')\n",
        "plt.grid(True)\n",
        "\n",
        "# Show the plot\n",
        "plt.show()\n"
      ],
      "metadata": {
        "id": "B091Pp6BMkjp"
      },
      "execution_count": null,
      "outputs": []
    },
    {
      "cell_type": "markdown",
      "source": [
        "2. Generate a dataset of random numbers. Visualize the distribution of a numerical variable."
      ],
      "metadata": {
        "id": "xlCp0rm2NXhJ"
      }
    },
    {
      "cell_type": "code",
      "source": [
        "\n",
        "# Generate dataset: 1000 random numbers from a uniform distribution between 10 and 100\n",
        "data = np.random.uniform(low=10, high=100, size=1000)\n",
        "\n",
        "# Create histogram\n",
        "plt.hist(data, bins=20, color='seagreen', edgecolor='black', alpha=0.75)\n",
        "\n",
        "# Add title and labels\n",
        "plt.title('Distribution of Uniform Random Data')\n",
        "plt.xlabel('Value')\n",
        "plt.ylabel('Frequency')\n",
        "plt.grid(axis='y', linestyle='--', alpha=0.6)\n",
        "\n",
        "# Show the plot\n",
        "plt.show()\n"
      ],
      "metadata": {
        "id": "8lVM5ysNNZez"
      },
      "execution_count": null,
      "outputs": []
    },
    {
      "cell_type": "markdown",
      "source": [
        "4.  Generate a dataset with categories and numerical values. Visualize the distribution of a numerical\n",
        "variable across different categories."
      ],
      "metadata": {
        "id": "sECpzj1_NiXp"
      }
    },
    {
      "cell_type": "code",
      "source": [
        "\n",
        "# Sample data\n",
        "categories = ['A', 'B', 'C']\n",
        "data = [\n",
        "    np.random.normal(50, 10, 100),\n",
        "    np.random.normal(60, 15, 100),\n",
        "    np.random.normal(55, 5, 100)\n",
        "]\n",
        "\n",
        "# Create box plot\n",
        "plt.boxplot(data, labels=categories)\n",
        "plt.title('Distribution Across Categories')\n",
        "plt.xlabel('Category')\n",
        "plt.ylabel('Value')\n",
        "plt.grid(True, linestyle='--', alpha=0.5)\n",
        "plt.show()\n"
      ],
      "metadata": {
        "id": "tZrvZA8GNm7i"
      },
      "execution_count": null,
      "outputs": []
    },
    {
      "cell_type": "markdown",
      "source": [
        "5. Generate a synthetic dataset with correlated features. Visualize the correlation matrix of a dataset using a\n",
        "heatmap"
      ],
      "metadata": {
        "id": "r4eZUdBeNtyB"
      }
    },
    {
      "cell_type": "code",
      "source": [
        "\n",
        "np.random.seed(0)\n",
        "x = np.random.rand(100)\n",
        "y = 2 * x + np.random.normal(0, 0.1, 100)\n",
        "z = 0.5 * x + 0.5 * y + np.random.normal(0, 0.1, 100)\n",
        "\n",
        "# Combine into a DataFrame\n",
        "import pandas as pd\n",
        "data = pd.DataFrame({'X': x, 'Y': y, 'Z': z})\n",
        "\n",
        "corr_matrix = data.corr()\n",
        "\n",
        "# Visualize correlation matrix with a heatmap\n",
        "sns.heatmap(corr_matrix, annot=True, cmap='coolwarm', linewidths=0.5)\n",
        "plt.title('Correlation Matrix Heatmap')\n",
        "plt.show()\n"
      ],
      "metadata": {
        "id": "V1luYEI-NzEx"
      },
      "execution_count": null,
      "outputs": []
    },
    {
      "cell_type": "markdown",
      "source": [
        "                               heading:\n",
        "                          PLOTLY ASSIGNMENT:"
      ],
      "metadata": {
        "id": "7W04yIvtOIxh"
      }
    },
    {
      "cell_type": "markdown",
      "source": [
        " 1. Using the given dataset, to generate a 3D scatter plot to visualize the distribution of data points in a threedimensional space.\n",
        " np.random.seed(30)\n",
        "data = {\n",
        "    'X': np.random.uniform(-10, 10, 300),\n",
        "    'Y': np.random.uniform(-10, 10, 300),\n",
        "    'Z': np.random.uniform(-10, 10, 300)\n",
        "}\n",
        "df = pd.DataFrame(data)"
      ],
      "metadata": {
        "id": "3QHt2yNAOQI3"
      }
    },
    {
      "cell_type": "code",
      "source": [
        "\n",
        "# Generate dataset\n",
        "np.random.seed(30)\n",
        "data = pd.DataFrame({\n",
        "    'X': np.random.uniform(-10, 10, 300),\n",
        "    'Y': np.random.uniform(-10, 10, 300),\n",
        "    'Z': np.random.uniform(-10, 10, 300)\n",
        "})\n",
        "\n",
        "# 3D scatter plot\n",
        "fig = plt.figure()\n",
        "ax = fig.add_subplot(111, projection='3d')\n",
        "ax.scatter(data['X'], data['Y'], data['Z'], c='blue', marker='^')\n",
        "\n",
        "# Labels and title\n",
        "ax.set_xlabel('X')\n",
        "ax.set_ylabel('Y')\n",
        "ax.set_zlabel('Z')\n",
        "ax.set_title('3D Scatter Plot')\n",
        "\n",
        "plt.show()\n"
      ],
      "metadata": {
        "id": "N6ToHKfEOiNQ"
      },
      "execution_count": null,
      "outputs": []
    },
    {
      "cell_type": "markdown",
      "source": [
        "4.  Using the given x and y data, generate a 3D surface plot to visualize the function.\n",
        "\n",
        "x = np.linspace(-5, 5, 100)\n",
        "y = np.linspace(-5, 5, 100)\n",
        "x, y = np.meshgrid(x, y)\n",
        "z = np.sin(np.sqrt(x**2 + y**2))\n",
        "data = {\n",
        "    'X': x.flatten(),\n",
        "    'Y': y.flatten(),\n",
        "    'Z': z.flatten()\n",
        "}\n",
        "df = pd.DataFrame(data)\n"
      ],
      "metadata": {
        "id": "o689FCB-O01f"
      }
    },
    {
      "cell_type": "code",
      "source": [
        "\n",
        "# Generate data\n",
        "x = np.linspace(-5, 5, 100)\n",
        "y = np.linspace(-5, 5, 100)\n",
        "x, y = np.meshgrid(x, y)\n",
        "z = np.sin(np.sqrt(x**2 + y**2))\n",
        "\n",
        "# Plot surface\n",
        "fig = plt.figure()\n",
        "ax = fig.add_subplot(111, projection='3d')\n",
        "ax.plot_surface(x, y, z, cmap='viridis')\n",
        "\n",
        "plt.show()\n"
      ],
      "metadata": {
        "id": "SukZ3VHpPQgW"
      },
      "execution_count": null,
      "outputs": []
    },
    {
      "cell_type": "markdown",
      "source": [
        "3. Using the sales data, generate a heatmap to visualize the variation in sales across different months and\n",
        "days\n",
        "\n",
        "np.random.seed(20)\n",
        "data = {\n",
        "    'Month': np.random.choice(['Jan', 'Feb', 'Mar', 'Apr', 'May'], 100),\n",
        "    'Day': np.random.choice(range(1, 31), 100),\n",
        "    'Sales': np.random.randint(1000, 5000, 100)\n",
        "}\n",
        "df = pd.DataFrame(data)"
      ],
      "metadata": {
        "id": "h5AV3IKWPmoQ"
      }
    },
    {
      "cell_type": "code",
      "source": [
        "\n",
        "# Generate data\n",
        "np.random.seed(20)\n",
        "data = {\n",
        "    'Month': np.random.choice(['Jan', 'Feb', 'Mar', 'Apr', 'May'], 100),\n",
        "    'Day': np.random.choice(range(1, 31), 100),\n",
        "    'Sales': np.random.randint(1000, 5000, 100)\n",
        "}\n",
        "df = pd.DataFrame(data)\n",
        "\n",
        "# Pivot and plot heatmap\n",
        "sns.heatmap(df.pivot_table('Sales', 'Day', 'Month', aggfunc='mean'), cmap='coolwarm', annot=True)\n",
        "plt.show()\n"
      ],
      "metadata": {
        "id": "Cyzh-aTtPncq"
      },
      "execution_count": null,
      "outputs": []
    },
    {
      "cell_type": "markdown",
      "source": [
        "                                 heading:\n",
        "                            BOKEH ASSIGNMENT:"
      ],
      "metadata": {
        "id": "vb6d4dRuP6Rg"
      }
    },
    {
      "cell_type": "code",
      "source": [
        "import numpy as np\n",
        "from bokeh.plotting import figure, show\n",
        "from bokeh.io import output_notebook\n",
        "from bokeh.models import ColorBar\n",
        "from bokeh.transform import linear_cmap\n",
        "from bokeh.palettes import Viridis256"
      ],
      "metadata": {
        "id": "XBhSyQYMQUlw"
      },
      "execution_count": null,
      "outputs": []
    },
    {
      "cell_type": "markdown",
      "source": [
        "5. 5. Create a Bokeh heatmap using the provided dataset\n",
        "data_heatmap = np.random.rand(10, 10)\n",
        "x = np.linspace(0, 1, 10)\n",
        "y = np.linspace(0, 1, 10)\n",
        "xx, yy = np.meshgrid(x, y)"
      ],
      "metadata": {
        "id": "H-NWtIJMQGo3"
      }
    },
    {
      "cell_type": "code",
      "source": [
        "# Generate data\n",
        "data_heatmap = np.random.rand(10, 10)\n",
        "x = np.linspace(0, 1, 10)\n",
        "y = np.linspace(0, 1, 10)\n",
        "xx, yy = np.meshgrid(x, y)\n",
        "\n",
        "# Prepare data for plotting\n",
        "heatmap_data = data_heatmap.flatten()\n",
        "x_pos = np.repeat(x, len(y))\n",
        "y_pos = np.tile(y, len(x))\n",
        "\n",
        "# Create a figure\n",
        "p = figure(width=400, height=400, title=\"Bokeh Heatmap\", toolbar_location=None)\n",
        "\n",
        "# Create the color mapper\n",
        "color_mapper = linear_cmap('value', Viridis256, 0, 1).transform\n",
        "\n",
        "# Use image method to plot heatmap, passing the color_mapper transform\n",
        "p.image(image=[data_heatmap], x=0, y=0, dw=1, dh=1, color_mapper=color_mapper)\n",
        "\n",
        "# Customize plot\n",
        "p.xgrid.grid_line_color = None\n",
        "p.ygrid.grid_line_color = None\n",
        "p.xaxis.visible = False\n",
        "p.yaxis.visible = False\n",
        "\n",
        "# Show the plot\n",
        "output_notebook()\n",
        "show(p)"
      ],
      "metadata": {
        "id": "-XBrA5aOQPR3"
      },
      "execution_count": null,
      "outputs": []
    },
    {
      "cell_type": "markdown",
      "source": [
        "3. Generate a Bokeh bar chart representing the counts of different fruits using the following dataset.\n",
        "fruits = ['Apples', 'Oranges', 'Bananas', 'Pears']\n",
        "counts = [20, 25, 30, 35]"
      ],
      "metadata": {
        "id": "MLXBNbn4QvsS"
      }
    },
    {
      "cell_type": "code",
      "source": [
        "from bokeh.plotting import figure, show\n",
        "from bokeh.io import output_notebook\n",
        "from bokeh.palettes import Category10\n",
        "\n",
        "# Dataset\n",
        "fruits = ['Apples', 'Oranges', 'Bananas', 'Pears']\n",
        "counts = [20, 25, 30, 35]\n",
        "\n",
        "# Create a figure\n",
        "p = figure(x_range=fruits, title=\"Fruit Counts\", toolbar_location=None, tools=\"\")\n",
        "\n",
        "# Create bar chart\n",
        "p.vbar(x=fruits, top=counts, width=0.5, color=Category10[4], legend_field=\"Fruits\")\n",
        "\n",
        "# Labels and title\n",
        "p.xaxis.axis_label = \"Fruits\"\n",
        "p.yaxis.axis_label = \"Count\"\n",
        "p.legend.title = \"Fruits\"\n",
        "\n",
        "# Customize grid lines\n",
        "p.grid.grid_line_color = None\n",
        "\n",
        "# Show the plot\n",
        "output_notebook()\n",
        "show(p)\n"
      ],
      "metadata": {
        "id": "tvUO99KiQ2Ej"
      },
      "execution_count": null,
      "outputs": []
    },
    {
      "cell_type": "markdown",
      "source": [
        "4. Create a Bokeh histogram to visualize the distribution of the given data."
      ],
      "metadata": {
        "id": "Jyp6yz3XRAyx"
      }
    },
    {
      "cell_type": "code",
      "source": [
        "import numpy as np\n",
        "from bokeh.plotting import figure, show\n",
        "from bokeh.io import output_notebook\n",
        "\n",
        "# Generate random data\n",
        "data = np.random.randn(1000)\n",
        "\n",
        "# Create histogram\n",
        "p = figure(title=\"Bokeh Histogram\", tools=\"hover\", x_axis_label='Value', y_axis_label='Frequency')\n",
        "hist, edges = np.histogram(data, bins=20)\n",
        "\n",
        "# Plot histogram\n",
        "p.quad(top=hist, bottom=0, left=edges[:-1], right=edges[1:], color=\"skyblue\", alpha=0.7)\n",
        "\n",
        "# Show plot\n",
        "output_notebook()\n",
        "show(p)\n"
      ],
      "metadata": {
        "id": "rdTn-JRWRDBh"
      },
      "execution_count": null,
      "outputs": []
    }
  ]
}